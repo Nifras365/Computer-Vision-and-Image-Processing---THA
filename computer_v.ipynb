{
 "cells": [
  {
   "cell_type": "markdown",
   "id": "e73fc15c",
   "metadata": {},
   "source": [
    "## EC7212 – Computer Vision and Image Processing "
   ]
  }
 ],
 "metadata": {
  "language_info": {
   "name": "python"
  }
 },
 "nbformat": 4,
 "nbformat_minor": 5
}
